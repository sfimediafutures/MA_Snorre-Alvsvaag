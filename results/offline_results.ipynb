{
 "cells": [
  {
   "cell_type": "code",
   "execution_count": 40,
   "metadata": {},
   "outputs": [],
   "source": [
    "import pandas as pd\n",
    "import numpy as np\n",
    "import matplotlib\n",
    "import matplotlib.pyplot as plt\n",
    "import pyarrow.parquet as pq\n",
    "import glob\n",
    "import seaborn as sns\n",
    "from matplotlib.ticker import FuncFormatter\n",
    "import os\n",
    "\n",
    "def beep(n=1, type='Blow'):\n",
    "    for i in range(n):\n",
    "        os.system(f'afplay /System/Library/Sounds/{type}.aiff')\n",
    "\n",
    "color_1 = '#100118'\n",
    "color_2 = '#FAFAFA'\n",
    "color_3 = '#6704FF'\n",
    "\n",
    "c_3 = '#310268'\n",
    "c_4 = '#4D04B1'\n",
    "c_5 = '#B7B1FF'\n",
    "c_6 = '#ECEBFF'"
   ]
  },
  {
   "cell_type": "code",
   "execution_count": 41,
   "metadata": {},
   "outputs": [
    {
     "data": {
      "text/plain": [
       "['#ecebff',\n",
       " '#e2def7',\n",
       " '#d8d2ef',\n",
       " '#cec6e7',\n",
       " '#c4b9df',\n",
       " '#baadd7',\n",
       " '#b0a1cf',\n",
       " '#a795c7',\n",
       " '#9d88bf',\n",
       " '#937cb7',\n",
       " '#8970af',\n",
       " '#7f64a7',\n",
       " '#75579f',\n",
       " '#6c4b97',\n",
       " '#623f8f',\n",
       " '#583387',\n",
       " '#4e267f',\n",
       " '#441a77',\n",
       " '#3a0e6f',\n",
       " '#310268']"
      ]
     },
     "execution_count": 41,
     "metadata": {},
     "output_type": "execute_result"
    }
   ],
   "source": [
    "def hex_to_rgb(hex_color):\n",
    "    \"\"\"Convert hex color to RGB tuple.\"\"\"\n",
    "    hex_color = hex_color.lstrip('#')\n",
    "    return tuple(int(hex_color[i:i+2], 16) for i in (0, 2, 4))\n",
    "\n",
    "def rgb_to_hex(rgb_color):\n",
    "    \"\"\"Convert RGB tuple to hex color.\"\"\"\n",
    "    return '#{:02x}{:02x}{:02x}'.format(*rgb_color)\n",
    "\n",
    "def generate_gradient(start_color, end_color, num_values):\n",
    "    \"\"\"Generate a gradient list of colors.\"\"\"\n",
    "    start_rgb = hex_to_rgb(start_color)\n",
    "    end_rgb = hex_to_rgb(end_color)\n",
    "    gradient = [\n",
    "        rgb_to_hex(\n",
    "            (\n",
    "                int(start_rgb[0] + (float(i)/(num_values-1)) * (end_rgb[0] - start_rgb[0])),\n",
    "                int(start_rgb[1] + (float(i)/(num_values-1)) * (end_rgb[1] - start_rgb[1])),\n",
    "                int(start_rgb[2] + (float(i)/(num_values-1)) * (end_rgb[2] - start_rgb[2]))\n",
    "            )\n",
    "        ) for i in range(num_values)\n",
    "    ]\n",
    "    return gradient\n",
    "\n",
    "# Define start and end colors\n",
    "end_color = '#310268'\n",
    "start_color = '#ECEBFF'\n",
    "\n",
    "# Generate a list of 20 colors in the gradient\n",
    "gradient_colors = generate_gradient(start_color, end_color, 20)\n",
    "\n",
    "# Print the gradient colors\n",
    "gradient_colors"
   ]
  },
  {
   "cell_type": "code",
   "execution_count": 43,
   "metadata": {},
   "outputs": [],
   "source": [
    "run_w_short  = pd.read_csv('offline_final_short.csv')\n",
    "run_w_short['days'] = 30\n",
    "run_long = pd.read_csv('offline_final.csv')"
   ]
  },
  {
   "cell_type": "code",
   "execution_count": 44,
   "metadata": {},
   "outputs": [],
   "source": [
    "run_long['days'] = 180\n",
    "all_runs = pd.concat([run_w_short, run_long])\n",
    "all_runs.drop_duplicates(inplace=True)"
   ]
  },
  {
   "cell_type": "code",
   "execution_count": 79,
   "metadata": {},
   "outputs": [],
   "source": [
    "H = all_runs[all_runs['Model'] == 'reranker']\n",
    "CF = all_runs[all_runs['Model'] == 'cf']\n",
    "MC = all_runs[all_runs['Model'] == 'bridges']"
   ]
  },
  {
   "cell_type": "code",
   "execution_count": 57,
   "metadata": {},
   "outputs": [
    {
     "name": "stdout",
     "output_type": "stream",
     "text": [
      "\\begin{tabular}{llrrrrrrrrrrr}\n",
      "\\toprule\n",
      "Model & Method & w1 & w2 & N & K & days & MRR & CTR & GDPS & GAPS & APS & COV \\\\\n",
      "\\midrule\n",
      "reranker & frequencyScoreNormalizedLog2 & 0.100000 & 0.900000 & 20 & 20 & 30 & 0.239576 & 0.555585 & 0.203201 & 0.215188 & 0.208334 & 0.371307 \\\\\n",
      "reranker & frequencyScoreNormalizedLog2 & 0.100000 & 0.900000 & 20 & 50 & 30 & 0.234072 & 0.545252 & 0.202209 & 0.221611 & 0.205652 & 0.305261 \\\\\n",
      "reranker & frequencyScoreNormalizedLog2 & 0.100000 & 0.900000 & 10 & 20 & 30 & 0.231489 & 0.439061 & 0.268387 & 0.310902 & 0.267551 & 0.316638 \\\\\n",
      "\\bottomrule\n",
      "\\end{tabular}\n",
      "\n"
     ]
    }
   ],
   "source": [
    "H.sort_values('MRR', ascending=False)\n",
    "print(H[['Model','Method', 'w1', 'w2', 'N', 'K', 'days', 'MRR', 'CTR', 'GDPS', 'GAPS', 'APS', 'COV']].sort_values('MRR', ascending=False).head(3).to_latex(index=False))"
   ]
  },
  {
   "cell_type": "code",
   "execution_count": 59,
   "metadata": {},
   "outputs": [
    {
     "name": "stdout",
     "output_type": "stream",
     "text": [
      "\\begin{tabular}{llrrrrrrrrrrr}\n",
      "\\toprule\n",
      "Model & Method & w1 & w2 & N & K & days & MRR & CTR & GDPS & GAPS & APS & COV \\\\\n",
      "\\midrule\n",
      "cf & not_used & 1.000000 & 0.000000 & 20 & 100 & 180 & 0.008216 & 0.036334 & 0.074506 & 0.092920 & 0.073352 & 0.478433 \\\\\n",
      "cf & not_used & 1.000000 & 0.000000 & 20 & 20 & 180 & 0.008216 & 0.036334 & 0.074506 & 0.092920 & 0.073352 & 0.478433 \\\\\n",
      "cf & not_used & 1.000000 & 0.000000 & 20 & 50 & 180 & 0.008216 & 0.036334 & 0.074506 & 0.092920 & 0.073352 & 0.478433 \\\\\n",
      "cf & not_used & 1.000000 & 0.000000 & 10 & 50 & 180 & 0.007252 & 0.022110 & 0.080454 & 0.092985 & 0.078830 & 0.414599 \\\\\n",
      "cf & not_used & 1.000000 & 0.000000 & 10 & 100 & 180 & 0.007252 & 0.022110 & 0.080454 & 0.092985 & 0.078830 & 0.414599 \\\\\n",
      "cf & not_used & 1.000000 & 0.000000 & 10 & 20 & 180 & 0.007252 & 0.022110 & 0.080454 & 0.092985 & 0.078830 & 0.414599 \\\\\n",
      "cf & not_used & 1.000000 & 0.000000 & 5 & 20 & 180 & 0.006029 & 0.012785 & 0.082849 & 0.089058 & 0.081993 & 0.350766 \\\\\n",
      "\\bottomrule\n",
      "\\end{tabular}\n",
      "\n"
     ]
    }
   ],
   "source": [
    "CF.sort_values('MRR', ascending=False)\n",
    "print(CF [['Model','Method', 'w1', 'w2', 'N', 'K', 'days', 'MRR', 'CTR', 'GDPS', 'GAPS', 'APS', 'COV']].sort_values('MRR', ascending=False).head(7).to_latex(index=False))"
   ]
  },
  {
   "cell_type": "markdown",
   "metadata": {},
   "source": [
    "### Implications of Log\n"
   ]
  },
  {
   "cell_type": "code",
   "execution_count": 68,
   "metadata": {},
   "outputs": [],
   "source": [
    "MC.reset_index(drop=True, inplace=True)"
   ]
  },
  {
   "cell_type": "code",
   "execution_count": 86,
   "metadata": {},
   "outputs": [],
   "source": [
    "MC.iloc[[14,19,29]]\n",
    "# Define a function to format the float values\n",
    "def format_percentage(value):\n",
    "    try:\n",
    "        return f'{float(value):.2%}'\n",
    "    except ValueError:\n",
    "        return value"
   ]
  },
  {
   "cell_type": "code",
   "execution_count": 195,
   "metadata": {},
   "outputs": [
    {
     "name": "stdout",
     "output_type": "stream",
     "text": [
      "\\begin{tabular}{llrrrrrrrrrrr}\n",
      "\\toprule\n",
      "Model & Method & w1 & w2 & N & K & days & MRR & CTR & GDPS & GAPS & APS & COV \\\\\n",
      "\\midrule\n",
      "bridges & frequencyScore & 0.0000 & 0.0000 & 20 & 100 & 30 & 0.2505 & 0.5524 & 0.2025 & 0.2144 & 0.2077 & 0.4353 \\\\\n",
      "bridges & frequencyScore & 0.0000 & 0.0000 & 10 & 100 & 30 & 0.2428 & 0.4412 & 0.2680 & 0.3081 & 0.2684 & 0.3977 \\\\\n",
      "bridges & frequencyScore & 0.0000 & 0.0000 & 5 & 100 & 30 & 0.2325 & 0.3633 & 0.3599 & 0.4083 & 0.3550 & 0.3432 \\\\\n",
      "\\bottomrule\n",
      "\\end{tabular}\n",
      "\n"
     ]
    }
   ],
   "source": [
    "MC.sort_values('MRR', ascending=False)\n",
    "m = MC.iloc[[14,19,29]][['Model','Method', 'w1', 'w2', 'N', 'K', 'days', 'MRR', 'CTR', 'GDPS', 'GAPS', 'APS', 'COV']].sort_values('MRR', ascending=False).head(3)\n",
    "print(m.to_latex(index=False, float_format=\"{:.4f}\".format))"
   ]
  },
  {
   "cell_type": "code",
   "execution_count": 217,
   "metadata": {},
   "outputs": [
    {
     "name": "stdout",
     "output_type": "stream",
     "text": [
      "\\begin{tabular}{llrrrrrrrrrrr}\n",
      "\\toprule\n",
      "Model & Method & w1 & w2 & N & K & days & MRR & CTR & GDPS & GAPS & APS & COV \\\\\n",
      "\\midrule\n",
      "reranker & frequencyScoreNormalizedLog2 & 0.1000 & 0.9000 & 3 & 20 & 180 & 0.1576 & 0.2218 & 0.4308 & 0.4523 & 0.4244 & 0.3053 \\\\\n",
      "reranker & frequencyScoreNormalizedLog2 & 0.1000 & 0.9000 & 3 & 50 & 180 & 0.1478 & 0.2072 & 0.4211 & 0.4427 & 0.4143 & 0.2817 \\\\\n",
      "reranker & frequencyScore & 0.1000 & 0.9000 & 3 & 20 & 180 & 0.1408 & 0.1958 & 0.4081 & 0.4260 & 0.4031 & 0.3256 \\\\\n",
      "\\bottomrule\n",
      "\\end{tabular}\n",
      "\n"
     ]
    }
   ],
   "source": [
    "H_n = H[H['days'] == 180]\n",
    "H_n = H_n[H_n['N'] == 3]\n",
    "H_n.sort_values('MRR', ascending=False)\n",
    "print(H_n[['Model','Method', 'w1', 'w2', 'N', 'K', 'days', 'MRR', 'CTR', 'GDPS', 'GAPS', 'APS', 'COV']].sort_values('MRR', ascending=False).head(3).to_latex(index=False, float_format=\"{:.4f}\".format))"
   ]
  },
  {
   "cell_type": "markdown",
   "metadata": {},
   "source": [
    "### Top 3 scores @n=3 "
   ]
  },
  {
   "cell_type": "code",
   "execution_count": 99,
   "metadata": {},
   "outputs": [
    {
     "name": "stdout",
     "output_type": "stream",
     "text": [
      "\\begin{tabular}{llrrrrrrrrrrr}\n",
      "\\toprule\n",
      "Model & Method & w1 & w2 & N & K & days & MRR & CTR & GDPS & GAPS & APS & COV \\\\\n",
      "\\midrule\n",
      "reranker & frequencyScoreNormalizedLog2 & 0.1000 & 0.9000 & 3 & 20 & 30 & 0.2019 & 0.2739 & 0.4079 & 0.4400 & 0.4033 & 0.2240 \\\\\n",
      "reranker & frequencyScoreNormalizedLog2 & 0.1000 & 0.9000 & 3 & 50 & 30 & 0.1964 & 0.2653 & 0.4043 & 0.4383 & 0.3986 & 0.1795 \\\\\n",
      "reranker & frequencyScoreNormalizedLog2 & 0.1000 & 0.9000 & 3 & 100 & 30 & 0.1902 & 0.2580 & 0.4043 & 0.4369 & 0.3974 & 0.1212 \\\\\n",
      "\\bottomrule\n",
      "\\end{tabular}\n",
      "\n"
     ]
    }
   ],
   "source": [
    "H_n = H[H['N'] == 3]\n",
    "H_n.sort_values('MRR', ascending=False)\n",
    "print(H_n[['Model','Method', 'w1', 'w2', 'N', 'K', 'days', 'MRR', 'CTR', 'GDPS', 'GAPS', 'APS', 'COV']].sort_values('MRR', ascending=False).head(3).to_latex(index=False, float_format=\"{:.4f}\".format))"
   ]
  },
  {
   "cell_type": "code",
   "execution_count": 101,
   "metadata": {},
   "outputs": [
    {
     "name": "stdout",
     "output_type": "stream",
     "text": [
      "\\begin{tabular}{llrrrrrrrrrrr}\n",
      "\\toprule\n",
      "Model & Method & w1 & w2 & N & K & days & MRR & CTR & GDPS & GAPS & APS & COV \\\\\n",
      "\\midrule\n",
      "cf & not_used & 1.000000 & 0.000000 & 3 & 20 & 180 & 0.004945 & 0.007964 & 0.083116 & 0.086814 & 0.082114 & 0.306052 \\\\\n",
      "cf & not_used & 1.000000 & 0.000000 & 3 & 50 & 180 & 0.004945 & 0.007964 & 0.083116 & 0.086814 & 0.082114 & 0.306052 \\\\\n",
      "cf & not_used & 1.000000 & 0.000000 & 3 & 100 & 180 & 0.004945 & 0.007964 & 0.083116 & 0.086814 & 0.082114 & 0.306052 \\\\\n",
      "\\bottomrule\n",
      "\\end{tabular}\n",
      "\n"
     ]
    }
   ],
   "source": [
    "CF_n = CF[CF['N'] == 3]\n",
    "CF_n.sort_values('MRR', ascending=False)\n",
    "print(CF_n [['Model','Method', 'w1', 'w2', 'N', 'K', 'days', 'MRR', 'CTR', 'GDPS', 'GAPS', 'APS', 'COV']].sort_values('MRR', ascending=False).head(7).to_latex(index=False))"
   ]
  },
  {
   "cell_type": "code",
   "execution_count": 186,
   "metadata": {},
   "outputs": [
    {
     "data": {
      "text/plain": [
       "N\n",
       "10    3\n",
       "3     3\n",
       "20    3\n",
       "5     3\n",
       "1     3\n",
       "Name: count, dtype: int64"
      ]
     },
     "execution_count": 186,
     "metadata": {},
     "output_type": "execute_result"
    }
   ],
   "source": [
    "CF['N'].value_counts()  "
   ]
  },
  {
   "cell_type": "code",
   "execution_count": 109,
   "metadata": {},
   "outputs": [
    {
     "name": "stdout",
     "output_type": "stream",
     "text": [
      "\\begin{tabular}{llrrrrrrrrrrr}\n",
      "\\toprule\n",
      "Model & Method & w1 & w2 & N & K & days & MRR & CTR & GDPS & GAPS & APS & COV \\\\\n",
      "\\midrule\n",
      "bridges & frequencyScoreNormalizedLog2 & 0.0000 & 0.0000 & 3 & 50 & 30 & 0.2152 & 0.2879 & 0.4196 & 0.4497 & 0.4169 & 0.2896 \\\\\n",
      "bridges & frequencyScoreNormalizedLog2 & 0.0000 & 0.0000 & 3 & 50 & 180 & 0.1753 & 0.2445 & 0.4492 & 0.4730 & 0.4451 & 0.3484 \\\\\n",
      "\\bottomrule\n",
      "\\end{tabular}\n",
      "\n"
     ]
    }
   ],
   "source": [
    "MC_n = MC[MC['N'] == 3]\n",
    "MC_n.sort_values('MRR', ascending=False)\n",
    "MC_n.reset_index(drop=True, inplace=True)\n",
    "m_n = MC_n.iloc[[1, 7]][['Model','Method', 'w1', 'w2', 'N', 'K', 'days', 'MRR', 'CTR', 'GDPS', 'GAPS', 'APS', 'COV']].sort_values('MRR', ascending=False).head(3)\n",
    "print(m_n.to_latex(index=False, float_format=\"{:.4f}\".format))"
   ]
  },
  {
   "cell_type": "markdown",
   "metadata": {},
   "source": [
    "### Frequency vs LOG"
   ]
  },
  {
   "cell_type": "code",
   "execution_count": 141,
   "metadata": {},
   "outputs": [],
   "source": [
    "H = H.sort_values('CTR', ascending=False)\n",
    "H.reset_index(drop=True, inplace=True)\n",
    "H_f = H[H['Method'] == \"frequencyScore\"]"
   ]
  },
  {
   "cell_type": "code",
   "execution_count": 191,
   "metadata": {},
   "outputs": [],
   "source": [
    "def get_n_best(df, n):\n",
    "    l = df[df['N'] == n]\n",
    "    l.sort_values('COV', ascending=False)\n",
    "    m_n = l[['Model','N','MRR', 'CTR', 'GDPS', 'GAPS', 'APS', 'COV']]\n",
    "    print(m_n.head(1).to_latex(float_format=\"{:.4f}\".format, index=False))"
   ]
  },
  {
   "cell_type": "code",
   "execution_count": 194,
   "metadata": {},
   "outputs": [
    {
     "name": "stdout",
     "output_type": "stream",
     "text": [
      "\\begin{tabular}{lrrrrrrr}\n",
      "\\toprule\n",
      "Model & N & MRR & CTR & GDPS & GAPS & APS & COV \\\\\n",
      "\\midrule\n",
      "bridges & 3 & 0.2152 & 0.2879 & 0.4196 & 0.4497 & 0.4169 & 0.2896 \\\\\n",
      "\\bottomrule\n",
      "\\end{tabular}\n",
      "\n",
      "\\begin{tabular}{lrrrrrrr}\n",
      "\\toprule\n",
      "Model & N & MRR & CTR & GDPS & GAPS & APS & COV \\\\\n",
      "\\midrule\n",
      "cf & 3 & 0.0049 & 0.0080 & 0.0831 & 0.0868 & 0.0821 & 0.3061 \\\\\n",
      "\\bottomrule\n",
      "\\end{tabular}\n",
      "\n",
      "\\begin{tabular}{lrrrrrrr}\n",
      "\\toprule\n",
      "Model & N & MRR & CTR & GDPS & GAPS & APS & COV \\\\\n",
      "\\midrule\n",
      "reranker & 3 & 0.2019 & 0.2739 & 0.4079 & 0.4400 & 0.4033 & 0.2240 \\\\\n",
      "\\bottomrule\n",
      "\\end{tabular}\n",
      "\n"
     ]
    }
   ],
   "source": [
    "n = 3\n",
    "get_n_best(MC, n)\n",
    "get_n_best(CF, n)\n",
    "get_n_best(H, n)"
   ]
  },
  {
   "cell_type": "code",
   "execution_count": 152,
   "metadata": {},
   "outputs": [
    {
     "name": "stdout",
     "output_type": "stream",
     "text": [
      "\\begin{tabular}{lllrrrrrrrrrrr}\n",
      "\\toprule\n",
      " & Model & Method & w1 & w2 & N & K & days & MRR & CTR & GDPS & GAPS & APS & COV \\\\\n",
      "\\midrule\n",
      "12 & reranker & frequencyScoreNormalizedLog2 & 0.1000 & 0.9000 & 3 & 20 & 30 & 0.2019 & 0.2739 & 0.4079 & 0.4400 & 0.4033 & 0.2240 \\\\\n",
      "13 & reranker & frequencyScoreNormalizedLog2 & 0.1000 & 0.9000 & 3 & 50 & 30 & 0.1964 & 0.2653 & 0.4043 & 0.4383 & 0.3986 & 0.1795 \\\\\n",
      "16 & reranker & frequencyScoreNormalizedLog2 & 0.1000 & 0.9000 & 3 & 100 & 30 & 0.1902 & 0.2580 & 0.4043 & 0.4369 & 0.3974 & 0.1212 \\\\\n",
      "18 & reranker & frequencyScore & 0.1000 & 0.9000 & 3 & 20 & 30 & 0.1881 & 0.2492 & 0.3773 & 0.3985 & 0.3737 & 0.2561 \\\\\n",
      "35 & reranker & frequencyScoreNormalizedLog2 & 0.1000 & 0.9000 & 3 & 20 & 180 & 0.1576 & 0.2218 & 0.4308 & 0.4523 & 0.4244 & 0.3053 \\\\\n",
      "40 & reranker & frequencyScore & 0.1000 & 0.9000 & 3 & 50 & 30 & 0.1538 & 0.1928 & 0.2963 & 0.2998 & 0.2930 & 0.2602 \\\\\n",
      "42 & reranker & frequencyScoreNormalizedLog2 & 0.3000 & 0.7000 & 3 & 20 & 30 & 0.1489 & 0.2218 & 0.3629 & 0.3899 & 0.3593 & 0.2511 \\\\\n",
      "43 & reranker & frequencyScoreNormalizedLog2 & 0.1000 & 0.9000 & 3 & 50 & 180 & 0.1478 & 0.2072 & 0.4211 & 0.4427 & 0.4143 & 0.2817 \\\\\n",
      "50 & reranker & frequencyScore & 0.1000 & 0.9000 & 3 & 20 & 180 & 0.1408 & 0.1958 & 0.4081 & 0.4260 & 0.4031 & 0.3256 \\\\\n",
      "51 & reranker & frequencyScore & 0.3000 & 0.7000 & 3 & 20 & 30 & 0.1398 & 0.2127 & 0.3556 & 0.3830 & 0.3521 & 0.2601 \\\\\n",
      "52 & reranker & frequencyScoreNormalizedLog2 & 0.1000 & 0.9000 & 3 & 100 & 180 & 0.1396 & 0.1951 & 0.4147 & 0.4358 & 0.4078 & 0.2615 \\\\\n",
      "57 & reranker & frequencyScore & 0.1000 & 0.9000 & 3 & 100 & 30 & 0.1314 & 0.1627 & 0.2582 & 0.2619 & 0.2537 & 0.2427 \\\\\n",
      "63 & reranker & frequencyScoreNormalizedLog2 & 0.3000 & 0.7000 & 3 & 20 & 180 & 0.1138 & 0.1753 & 0.3968 & 0.4170 & 0.3917 & 0.3228 \\\\\n",
      "64 & reranker & frequencyScore & 0.3000 & 0.7000 & 3 & 20 & 180 & 0.1135 & 0.1746 & 0.3967 & 0.4168 & 0.3917 & 0.3282 \\\\\n",
      "73 & reranker & frequencyScore & 0.1000 & 0.9000 & 3 & 50 & 180 & 0.0989 & 0.1297 & 0.3086 & 0.3160 & 0.3051 & 0.3280 \\\\\n",
      "79 & reranker & frequencyScoreNormalizedLog2 & 0.3000 & 0.7000 & 3 & 50 & 30 & 0.0936 & 0.1435 & 0.2850 & 0.3012 & 0.2834 & 0.2286 \\\\\n",
      "88 & reranker & frequencyScore & 0.1000 & 0.9000 & 3 & 100 & 180 & 0.0799 & 0.0992 & 0.2436 & 0.2539 & 0.2405 & 0.3073 \\\\\n",
      "90 & reranker & frequencyScoreNormalizedLog2 & 0.3000 & 0.7000 & 3 & 100 & 30 & 0.0723 & 0.1082 & 0.2628 & 0.2830 & 0.2613 & 0.1863 \\\\\n",
      "102 & reranker & frequencyScoreNormalizedLog2 & 0.3000 & 0.7000 & 3 & 50 & 180 & 0.0575 & 0.0932 & 0.2943 & 0.3023 & 0.2913 & 0.3119 \\\\\n",
      "109 & reranker & frequencyScore & 0.3000 & 0.7000 & 3 & 50 & 30 & 0.0511 & 0.0872 & 0.2191 & 0.2263 & 0.2177 & 0.2654 \\\\\n",
      "113 & reranker & frequencyScore & 0.3000 & 0.7000 & 3 & 50 & 180 & 0.0437 & 0.0741 & 0.2605 & 0.2633 & 0.2578 & 0.3299 \\\\\n",
      "118 & reranker & frequencyScoreNormalizedLog2 & 0.3000 & 0.7000 & 3 & 100 & 180 & 0.0392 & 0.0614 & 0.2570 & 0.2669 & 0.2551 & 0.2993 \\\\\n",
      "136 & reranker & frequencyScoreNormalizedLog2 & 0.5000 & 0.5000 & 3 & 20 & 30 & 0.0242 & 0.0503 & 0.1651 & 0.1720 & 0.1634 & 0.3454 \\\\\n",
      "138 & reranker & frequencyScoreNormalizedLog2 & 0.5000 & 0.5000 & 3 & 100 & 30 & 0.0234 & 0.0352 & 0.1672 & 0.1817 & 0.1671 & 0.2819 \\\\\n",
      "140 & reranker & frequencyScore & 0.3000 & 0.7000 & 3 & 100 & 30 & 0.0231 & 0.0354 & 0.1418 & 0.1477 & 0.1396 & 0.2511 \\\\\n",
      "147 & reranker & frequencyScoreNormalizedLog2 & 0.5000 & 0.5000 & 3 & 50 & 30 & 0.0202 & 0.0331 & 0.1612 & 0.1714 & 0.1614 & 0.3236 \\\\\n",
      "150 & reranker & frequencyScore & 0.3000 & 0.7000 & 3 & 100 & 180 & 0.0195 & 0.0307 & 0.1553 & 0.1574 & 0.1531 & 0.3097 \\\\\n",
      "152 & reranker & frequencyScoreNormalizedLog2 & 0.5000 & 0.5000 & 3 & 100 & 180 & 0.0182 & 0.0275 & 0.1869 & 0.1924 & 0.1848 & 0.3392 \\\\\n",
      "160 & reranker & frequencyScoreNormalizedLog2 & 0.5000 & 0.5000 & 3 & 20 & 180 & 0.0163 & 0.0312 & 0.1659 & 0.1728 & 0.1631 & 0.3757 \\\\\n",
      "161 & reranker & frequencyScore & 0.5000 & 0.5000 & 3 & 20 & 30 & 0.0161 & 0.0314 & 0.1384 & 0.1474 & 0.1374 & 0.3206 \\\\\n",
      "165 & reranker & frequencyScore & 0.5000 & 0.5000 & 3 & 100 & 30 & 0.0153 & 0.0235 & 0.1250 & 0.1302 & 0.1225 & 0.2934 \\\\\n",
      "169 & reranker & frequencyScoreNormalizedLog2 & 0.5000 & 0.5000 & 3 & 50 & 180 & 0.0147 & 0.0236 & 0.1807 & 0.1838 & 0.1788 & 0.3610 \\\\\n",
      "174 & reranker & frequencyScore & 0.5000 & 0.5000 & 3 & 50 & 30 & 0.0144 & 0.0229 & 0.1384 & 0.1439 & 0.1378 & 0.3147 \\\\\n",
      "179 & reranker & frequencyScoreNormalizedLog2 & 0.7000 & 0.3000 & 3 & 100 & 30 & 0.0132 & 0.0206 & 0.1202 & 0.1335 & 0.1179 & 0.2983 \\\\\n",
      "180 & reranker & frequencyScore & 0.5000 & 0.5000 & 3 & 20 & 180 & 0.0131 & 0.0246 & 0.1558 & 0.1627 & 0.1531 & 0.3271 \\\\\n",
      "182 & reranker & frequencyScore & 0.5000 & 0.5000 & 3 & 100 & 180 & 0.0131 & 0.0203 & 0.1371 & 0.1384 & 0.1346 & 0.3084 \\\\\n",
      "188 & reranker & frequencyScore & 0.5000 & 0.5000 & 3 & 50 & 180 & 0.0120 & 0.0194 & 0.1604 & 0.1606 & 0.1588 & 0.3245 \\\\\n",
      "202 & reranker & frequencyScoreNormalizedLog2 & 0.7000 & 0.3000 & 3 & 100 & 180 & 0.0108 & 0.0172 & 0.1336 & 0.1412 & 0.1308 & 0.3111 \\\\\n",
      "203 & reranker & frequencyScore & 0.7000 & 0.3000 & 3 & 100 & 30 & 0.0107 & 0.0168 & 0.1093 & 0.1185 & 0.1059 & 0.2986 \\\\\n",
      "213 & reranker & frequencyScoreNormalizedLog2 & 0.7000 & 0.3000 & 3 & 50 & 30 & 0.0102 & 0.0166 & 0.1116 & 0.1231 & 0.1096 & 0.3108 \\\\\n",
      "221 & reranker & frequencyScore & 0.7000 & 0.3000 & 3 & 100 & 180 & 0.0095 & 0.0150 & 0.1193 & 0.1252 & 0.1163 & 0.3040 \\\\\n",
      "225 & reranker & frequencyScore & 0.7000 & 0.3000 & 3 & 50 & 30 & 0.0093 & 0.0149 & 0.1080 & 0.1175 & 0.1055 & 0.3061 \\\\\n",
      "234 & reranker & frequencyScoreNormalizedLog2 & 0.7000 & 0.3000 & 3 & 50 & 180 & 0.0087 & 0.0142 & 0.1258 & 0.1328 & 0.1232 & 0.3133 \\\\\n",
      "244 & reranker & frequencyScore & 0.7000 & 0.3000 & 3 & 50 & 180 & 0.0082 & 0.0133 & 0.1202 & 0.1266 & 0.1178 & 0.3089 \\\\\n",
      "247 & reranker & frequencyScoreNormalizedLog2 & 0.9000 & 0.1000 & 3 & 100 & 30 & 0.0081 & 0.0128 & 0.0962 & 0.1079 & 0.0926 & 0.3013 \\\\\n",
      "250 & reranker & frequencyScoreNormalizedLog2 & 0.7000 & 0.3000 & 3 & 20 & 30 & 0.0077 & 0.0136 & 0.1047 & 0.1143 & 0.1029 & 0.3087 \\\\\n",
      "253 & reranker & frequencyScore & 0.9000 & 0.1000 & 3 & 100 & 30 & 0.0076 & 0.0120 & 0.0973 & 0.1062 & 0.0936 & 0.3021 \\\\\n",
      "254 & reranker & frequencyScore & 0.7000 & 0.3000 & 3 & 20 & 30 & 0.0075 & 0.0132 & 0.1031 & 0.1120 & 0.1013 & 0.3075 \\\\\n",
      "256 & reranker & frequencyScoreNormalizedLog2 & 0.9000 & 0.1000 & 3 & 100 & 180 & 0.0074 & 0.0116 & 0.1051 & 0.1134 & 0.1020 & 0.3045 \\\\\n",
      "259 & reranker & frequencyScoreNormalizedLog2 & 0.7000 & 0.3000 & 3 & 20 & 180 & 0.0071 & 0.0124 & 0.1177 & 0.1243 & 0.1150 & 0.3100 \\\\\n",
      "260 & reranker & frequencyScore & 0.9000 & 0.1000 & 3 & 100 & 180 & 0.0071 & 0.0112 & 0.1017 & 0.1095 & 0.0989 & 0.3034 \\\\\n",
      "262 & reranker & frequencyScore & 0.7000 & 0.3000 & 3 & 20 & 180 & 0.0070 & 0.0121 & 0.1156 & 0.1224 & 0.1130 & 0.3095 \\\\\n",
      "263 & reranker & frequencyScoreNormalizedLog2 & 0.9000 & 0.1000 & 3 & 50 & 30 & 0.0069 & 0.0112 & 0.0905 & 0.1004 & 0.0873 & 0.3048 \\\\\n",
      "267 & reranker & frequencyScore & 0.9000 & 0.1000 & 3 & 50 & 30 & 0.0066 & 0.0108 & 0.0935 & 0.1011 & 0.0903 & 0.3045 \\\\\n",
      "269 & reranker & frequencyScoreNormalizedLog2 & 0.9000 & 0.1000 & 3 & 50 & 180 & 0.0064 & 0.0104 & 0.0981 & 0.1055 & 0.0954 & 0.3057 \\\\\n",
      "271 & reranker & frequencyScore & 0.9000 & 0.1000 & 3 & 50 & 180 & 0.0062 & 0.0101 & 0.0976 & 0.1044 & 0.0951 & 0.3057 \\\\\n",
      "274 & reranker & frequencyScoreNormalizedLog2 & 0.9000 & 0.1000 & 3 & 20 & 30 & 0.0058 & 0.0098 & 0.0873 & 0.0939 & 0.0851 & 0.3059 \\\\\n",
      "275 & reranker & frequencyScore & 0.9000 & 0.1000 & 3 & 20 & 30 & 0.0057 & 0.0096 & 0.0869 & 0.0934 & 0.0847 & 0.3057 \\\\\n",
      "276 & reranker & frequencyScoreNormalizedLog2 & 0.9000 & 0.1000 & 3 & 20 & 180 & 0.0056 & 0.0093 & 0.0915 & 0.0971 & 0.0894 & 0.3065 \\\\\n",
      "277 & reranker & frequencyScore & 0.9000 & 0.1000 & 3 & 20 & 180 & 0.0055 & 0.0093 & 0.0909 & 0.0966 & 0.0889 & 0.3068 \\\\\n",
      "\\bottomrule\n",
      "\\end{tabular}\n",
      "\n"
     ]
    }
   ],
   "source": [
    "# H_f = H[H['Method'] == \"frequencyScore\"]\n",
    "# H_f.sort_values('MRR', ascending=False)\n",
    "# H_f.reset_index(drop=True, inplace=True)\n",
    "H = H.sort_values('MRR', ascending=False)\n",
    "H_F = H[H['N'] == 3]\n",
    "m_n = H_F[['Model','Method', 'w1', 'w2', 'N', 'K', 'days', 'MRR', 'CTR', 'GDPS', 'GAPS', 'APS', 'COV']]\n",
    "print(m_n.to_latex(float_format=\"{:.4f}\".format))"
   ]
  },
  {
   "cell_type": "code",
   "execution_count": null,
   "metadata": {},
   "outputs": [],
   "source": [
    "H_n = H[H['N'] == 3]\n",
    "H_n.sort_values('MRR', ascending=False)\n",
    "print(H_n[['Model','Method', 'w1', 'w2', 'N', 'K', 'days', 'MRR', 'CTR', 'GDPS', 'GAPS', 'APS', 'COV']].sort_values('MRR', ascending=False).head(3).to_latex(index=False, float_format=\"{:.4f}\".format))"
   ]
  },
  {
   "cell_type": "markdown",
   "metadata": {},
   "source": [
    "### Corr"
   ]
  },
  {
   "cell_type": "code",
   "execution_count": 34,
   "metadata": {},
   "outputs": [
    {
     "data": {
      "text/plain": [
       "<Axes: >"
      ]
     },
     "execution_count": 34,
     "metadata": {},
     "output_type": "execute_result"
    },
    {
     "data": {
      "image/png": "[encoded data removed]",
      "text/plain": [
       "<Figure size 640x480 with 2 Axes>"
      ]
     },
     "metadata": {},
     "output_type": "display_data"
    }
   ],
   "source": [
    "correlation_matrix = H[['w1','w2', 'K','N', 'days', 'MRR', 'CTR', 'GAPS', 'GDPS', 'APS','COV']].corr()\n",
    "\n",
    "sns.heatmap(correlation_matrix, cmap=gradient_colors, annot=True, cbar=True, fmt='.2f')\n"
   ]
  },
  {
   "cell_type": "code",
   "execution_count": 57,
   "metadata": {},
   "outputs": [],
   "source": [
    "correlation_matrix.to_csv('data/evaluations/correlation_matrix.csv')"
   ]
  },
  {
   "cell_type": "code",
   "execution_count": 39,
   "metadata": {},
   "outputs": [
    {
     "data": {
      "text/html": [
       "<div>\n",
       "<style scoped>\n",
       "    .dataframe tbody tr th:only-of-type {\n",
       "        vertical-align: middle;\n",
       "    }\n",
       "\n",
       "    .dataframe tbody tr th {\n",
       "        vertical-align: top;\n",
       "    }\n",
       "\n",
       "    .dataframe thead th {\n",
       "        text-align: right;\n",
       "    }\n",
       "</style>\n",
       "<table border=\"1\" class=\"dataframe\">\n",
       "  <thead>\n",
       "    <tr style=\"text-align: right;\">\n",
       "      <th></th>\n",
       "      <th>Model</th>\n",
       "      <th>Method</th>\n",
       "      <th>w1</th>\n",
       "      <th>w2</th>\n",
       "      <th>K</th>\n",
       "      <th>N</th>\n",
       "      <th>MAP</th>\n",
       "      <th>MRR</th>\n",
       "      <th>CTR</th>\n",
       "      <th>missing_bridges</th>\n",
       "      <th>missing_cf</th>\n",
       "      <th>not_enough_bridges</th>\n",
       "      <th>not_enough_cf</th>\n",
       "      <th>GDPS</th>\n",
       "      <th>GAPS</th>\n",
       "      <th>APS</th>\n",
       "      <th>COV</th>\n",
       "      <th>days</th>\n",
       "    </tr>\n",
       "  </thead>\n",
       "  <tbody>\n",
       "    <tr>\n",
       "      <th>0</th>\n",
       "      <td>reranker</td>\n",
       "      <td>frequencyScoreNormalizedLog2</td>\n",
       "      <td>0.7</td>\n",
       "      <td>0.3</td>\n",
       "      <td>20</td>\n",
       "      <td>20</td>\n",
       "      <td>0.004109</td>\n",
       "      <td>0.011161</td>\n",
       "      <td>0.039749</td>\n",
       "      <td>4106</td>\n",
       "      <td>0</td>\n",
       "      <td>8996</td>\n",
       "      <td>0</td>\n",
       "      <td>0.075239</td>\n",
       "      <td>0.093490</td>\n",
       "      <td>0.074070</td>\n",
       "      <td>0.483489</td>\n",
       "      <td>30</td>\n",
       "    </tr>\n",
       "    <tr>\n",
       "      <th>1</th>\n",
       "      <td>reranker</td>\n",
       "      <td>frequencyScoreNormalizedLog2</td>\n",
       "      <td>0.3</td>\n",
       "      <td>0.7</td>\n",
       "      <td>100</td>\n",
       "      <td>20</td>\n",
       "      <td>0.030303</td>\n",
       "      <td>0.104378</td>\n",
       "      <td>0.386807</td>\n",
       "      <td>4106</td>\n",
       "      <td>0</td>\n",
       "      <td>41232</td>\n",
       "      <td>0</td>\n",
       "      <td>0.174863</td>\n",
       "      <td>0.191221</td>\n",
       "      <td>0.175419</td>\n",
       "      <td>0.292779</td>\n",
       "      <td>30</td>\n",
       "    </tr>\n",
       "    <tr>\n",
       "      <th>2</th>\n",
       "      <td>reranker</td>\n",
       "      <td>frequencyScore</td>\n",
       "      <td>0.9</td>\n",
       "      <td>0.1</td>\n",
       "      <td>50</td>\n",
       "      <td>20</td>\n",
       "      <td>0.004491</td>\n",
       "      <td>0.010665</td>\n",
       "      <td>0.046809</td>\n",
       "      <td>4106</td>\n",
       "      <td>0</td>\n",
       "      <td>22137</td>\n",
       "      <td>0</td>\n",
       "      <td>0.081952</td>\n",
       "      <td>0.099784</td>\n",
       "      <td>0.080282</td>\n",
       "      <td>0.474325</td>\n",
       "      <td>30</td>\n",
       "    </tr>\n",
       "    <tr>\n",
       "      <th>3</th>\n",
       "      <td>reranker</td>\n",
       "      <td>frequencyScoreNormalizedLog2</td>\n",
       "      <td>0.1</td>\n",
       "      <td>0.9</td>\n",
       "      <td>50</td>\n",
       "      <td>20</td>\n",
       "      <td>0.041746</td>\n",
       "      <td>0.234072</td>\n",
       "      <td>0.545252</td>\n",
       "      <td>4106</td>\n",
       "      <td>0</td>\n",
       "      <td>22137</td>\n",
       "      <td>0</td>\n",
       "      <td>0.202209</td>\n",
       "      <td>0.221611</td>\n",
       "      <td>0.205652</td>\n",
       "      <td>0.305261</td>\n",
       "      <td>30</td>\n",
       "    </tr>\n",
       "    <tr>\n",
       "      <th>4</th>\n",
       "      <td>reranker</td>\n",
       "      <td>frequencyScoreNormalizedLog2</td>\n",
       "      <td>0.3</td>\n",
       "      <td>0.7</td>\n",
       "      <td>50</td>\n",
       "      <td>1</td>\n",
       "      <td>0.081305</td>\n",
       "      <td>0.056747</td>\n",
       "      <td>0.056747</td>\n",
       "      <td>4106</td>\n",
       "      <td>0</td>\n",
       "      <td>22137</td>\n",
       "      <td>0</td>\n",
       "      <td>0.315626</td>\n",
       "      <td>0.303524</td>\n",
       "      <td>0.314240</td>\n",
       "      <td>0.171591</td>\n",
       "      <td>30</td>\n",
       "    </tr>\n",
       "    <tr>\n",
       "      <th>...</th>\n",
       "      <td>...</td>\n",
       "      <td>...</td>\n",
       "      <td>...</td>\n",
       "      <td>...</td>\n",
       "      <td>...</td>\n",
       "      <td>...</td>\n",
       "      <td>...</td>\n",
       "      <td>...</td>\n",
       "      <td>...</td>\n",
       "      <td>...</td>\n",
       "      <td>...</td>\n",
       "      <td>...</td>\n",
       "      <td>...</td>\n",
       "      <td>...</td>\n",
       "      <td>...</td>\n",
       "      <td>...</td>\n",
       "      <td>...</td>\n",
       "      <td>...</td>\n",
       "    </tr>\n",
       "    <tr>\n",
       "      <th>190</th>\n",
       "      <td>bridges</td>\n",
       "      <td>frequencyScore</td>\n",
       "      <td>0.0</td>\n",
       "      <td>0.0</td>\n",
       "      <td>100</td>\n",
       "      <td>5</td>\n",
       "      <td>0.093597</td>\n",
       "      <td>0.189815</td>\n",
       "      <td>0.307726</td>\n",
       "      <td>0</td>\n",
       "      <td>0</td>\n",
       "      <td>0</td>\n",
       "      <td>0</td>\n",
       "      <td>0.398734</td>\n",
       "      <td>0.429644</td>\n",
       "      <td>0.389058</td>\n",
       "      <td>0.406699</td>\n",
       "      <td>180</td>\n",
       "    </tr>\n",
       "    <tr>\n",
       "      <th>191</th>\n",
       "      <td>reranker</td>\n",
       "      <td>frequencyScore</td>\n",
       "      <td>0.9</td>\n",
       "      <td>0.1</td>\n",
       "      <td>20</td>\n",
       "      <td>1</td>\n",
       "      <td>0.005390</td>\n",
       "      <td>0.002841</td>\n",
       "      <td>0.002841</td>\n",
       "      <td>0</td>\n",
       "      <td>0</td>\n",
       "      <td>5174</td>\n",
       "      <td>0</td>\n",
       "      <td>0.084256</td>\n",
       "      <td>0.086848</td>\n",
       "      <td>0.082377</td>\n",
       "      <td>0.224364</td>\n",
       "      <td>180</td>\n",
       "    </tr>\n",
       "    <tr>\n",
       "      <th>192</th>\n",
       "      <td>reranker</td>\n",
       "      <td>frequencyScoreNormalizedLog2</td>\n",
       "      <td>0.7</td>\n",
       "      <td>0.3</td>\n",
       "      <td>100</td>\n",
       "      <td>1</td>\n",
       "      <td>0.011022</td>\n",
       "      <td>0.006192</td>\n",
       "      <td>0.006192</td>\n",
       "      <td>0</td>\n",
       "      <td>0</td>\n",
       "      <td>14093</td>\n",
       "      <td>0</td>\n",
       "      <td>0.130265</td>\n",
       "      <td>0.134004</td>\n",
       "      <td>0.127268</td>\n",
       "      <td>0.225786</td>\n",
       "      <td>180</td>\n",
       "    </tr>\n",
       "    <tr>\n",
       "      <th>193</th>\n",
       "      <td>cf</td>\n",
       "      <td>not_used</td>\n",
       "      <td>1.0</td>\n",
       "      <td>0.0</td>\n",
       "      <td>50</td>\n",
       "      <td>1</td>\n",
       "      <td>0.005272</td>\n",
       "      <td>0.002772</td>\n",
       "      <td>0.002772</td>\n",
       "      <td>0</td>\n",
       "      <td>0</td>\n",
       "      <td>0</td>\n",
       "      <td>0</td>\n",
       "      <td>0.082057</td>\n",
       "      <td>0.084543</td>\n",
       "      <td>0.080203</td>\n",
       "      <td>0.224048</td>\n",
       "      <td>180</td>\n",
       "    </tr>\n",
       "    <tr>\n",
       "      <th>194</th>\n",
       "      <td>reranker</td>\n",
       "      <td>frequencyScore</td>\n",
       "      <td>0.7</td>\n",
       "      <td>0.3</td>\n",
       "      <td>50</td>\n",
       "      <td>5</td>\n",
       "      <td>0.007848</td>\n",
       "      <td>0.009960</td>\n",
       "      <td>0.021024</td>\n",
       "      <td>0</td>\n",
       "      <td>0</td>\n",
       "      <td>8748</td>\n",
       "      <td>0</td>\n",
       "      <td>0.123885</td>\n",
       "      <td>0.133239</td>\n",
       "      <td>0.121524</td>\n",
       "      <td>0.351240</td>\n",
       "      <td>180</td>\n",
       "    </tr>\n",
       "  </tbody>\n",
       "</table>\n",
       "<p>375 rows × 18 columns</p>\n",
       "</div>"
      ],
      "text/plain": [
       "        Model                        Method   w1   w2    K   N       MAP  \\\n",
       "0    reranker  frequencyScoreNormalizedLog2  0.7  0.3   20  20  0.004109   \n",
       "1    reranker  frequencyScoreNormalizedLog2  0.3  0.7  100  20  0.030303   \n",
       "2    reranker                frequencyScore  0.9  0.1   50  20  0.004491   \n",
       "3    reranker  frequencyScoreNormalizedLog2  0.1  0.9   50  20  0.041746   \n",
       "4    reranker  frequencyScoreNormalizedLog2  0.3  0.7   50   1  0.081305   \n",
       "..        ...                           ...  ...  ...  ...  ..       ...   \n",
       "190   bridges                frequencyScore  0.0  0.0  100   5  0.093597   \n",
       "191  reranker                frequencyScore  0.9  0.1   20   1  0.005390   \n",
       "192  reranker  frequencyScoreNormalizedLog2  0.7  0.3  100   1  0.011022   \n",
       "193        cf                      not_used  1.0  0.0   50   1  0.005272   \n",
       "194  reranker                frequencyScore  0.7  0.3   50   5  0.007848   \n",
       "\n",
       "          MRR       CTR  missing_bridges  missing_cf  not_enough_bridges  \\\n",
       "0    0.011161  0.039749             4106           0                8996   \n",
       "1    0.104378  0.386807             4106           0               41232   \n",
       "2    0.010665  0.046809             4106           0               22137   \n",
       "3    0.234072  0.545252             4106           0               22137   \n",
       "4    0.056747  0.056747             4106           0               22137   \n",
       "..        ...       ...              ...         ...                 ...   \n",
       "190  0.189815  0.307726                0           0                   0   \n",
       "191  0.002841  0.002841                0           0                5174   \n",
       "192  0.006192  0.006192                0           0               14093   \n",
       "193  0.002772  0.002772                0           0                   0   \n",
       "194  0.009960  0.021024                0           0                8748   \n",
       "\n",
       "     not_enough_cf      GDPS      GAPS       APS       COV  days  \n",
       "0                0  0.075239  0.093490  0.074070  0.483489    30  \n",
       "1                0  0.174863  0.191221  0.175419  0.292779    30  \n",
       "2                0  0.081952  0.099784  0.080282  0.474325    30  \n",
       "3                0  0.202209  0.221611  0.205652  0.305261    30  \n",
       "4                0  0.315626  0.303524  0.314240  0.171591    30  \n",
       "..             ...       ...       ...       ...       ...   ...  \n",
       "190              0  0.398734  0.429644  0.389058  0.406699   180  \n",
       "191              0  0.084256  0.086848  0.082377  0.224364   180  \n",
       "192              0  0.130265  0.134004  0.127268  0.225786   180  \n",
       "193              0  0.082057  0.084543  0.080203  0.224048   180  \n",
       "194              0  0.123885  0.133239  0.121524  0.351240   180  \n",
       "\n",
       "[375 rows x 18 columns]"
      ]
     },
     "execution_count": 39,
     "metadata": {},
     "output_type": "execute_result"
    }
   ],
   "source": [
    "all_runs"
   ]
  }
 ],
 "metadata": {
  "kernelspec": {
   "display_name": ".venv",
   "language": "python",
   "name": "python3"
  },
  "language_info": {
   "codemirror_mode": {
    "name": "ipython",
    "version": 3
   },
   "file_extension": ".py",
   "mimetype": "text/x-python",
   "name": "python",
   "nbconvert_exporter": "python",
   "pygments_lexer": "ipython3",
   "version": "3.11.7"
  }
 },
 "nbformat": 4,
 "nbformat_minor": 2
}
